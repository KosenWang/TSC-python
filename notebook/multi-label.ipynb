{
 "cells": [
  {
   "cell_type": "code",
   "execution_count": 2,
   "metadata": {},
   "outputs": [
    {
     "name": "stderr",
     "output_type": "stream",
     "text": [
      "d:\\LenovoSoftstore\\Anaconda\\envs\\yolov5\\lib\\site-packages\\tqdm\\auto.py:22: TqdmWarning: IProgress not found. Please update jupyter and ipywidgets. See https://ipywidgets.readthedocs.io/en/stable/user_install.html\n",
      "  from .autonotebook import tqdm as notebook_tqdm\n"
     ]
    }
   ],
   "source": [
    "import torch\n",
    "from torch import nn\n",
    "import os\n",
    "import sys\n",
    "sys.path.append('../')\n",
    "import utils.csv as csv\n",
    "from torchmetrics.classification import MultilabelF1Score\n",
    "import pandas as pd"
   ]
  },
  {
   "cell_type": "code",
   "execution_count": 21,
   "metadata": {},
   "outputs": [],
   "source": [
    "# file path\n",
    "PATH = os.path.join('..', 'outputs', 'csv','multi_label', '04')\n",
    "model = 'transformer'\n",
    "ref_path = os.path.join(PATH, f'{model}_8ml_ref.csv')\n",
    "pred_path = os.path.join(PATH, f'{model}_8ml_pred.csv')\n",
    "class_path = 'D:\\\\Deutschland\\\\FUB\\\\master_thesis\\\\data\\\\ref\\\\all\\\\8_main_classes.csv'"
   ]
  },
  {
   "cell_type": "code",
   "execution_count": 25,
   "metadata": {},
   "outputs": [
    {
     "name": "stdout",
     "output_type": "stream",
     "text": [
      "export file ..\\outputs\\csv\\multi_label\\04\\transformer_8ml_count.csv\n"
     ]
    }
   ],
   "source": [
    "ref = csv.load(ref_path, 'id')\n",
    "pred = csv.load(pred_path, 'id')\n",
    "classes = csv.load(class_path, 'id')\n",
    "res = pred == ref\n",
    "res['sum'] = res.sum(axis=1)\n",
    "res.sort_values(by='sum', ascending=False, inplace=True)\n",
    "output = pd.merge(res, classes, on='id', how='inner')\n",
    "out_path = os.path.join(PATH, f'{model}_8ml_count.csv')\n",
    "csv.export(output, out_path, True)"
   ]
  }
 ],
 "metadata": {
  "interpreter": {
   "hash": "57200abac2ff18432c53e10587ceb364acdd46eebe90c6833204d1f95e2c9eff"
  },
  "kernelspec": {
   "display_name": "Python 3.8.13 ('yolov5')",
   "language": "python",
   "name": "python3"
  },
  "language_info": {
   "codemirror_mode": {
    "name": "ipython",
    "version": 3
   },
   "file_extension": ".py",
   "mimetype": "text/x-python",
   "name": "python",
   "nbconvert_exporter": "python",
   "pygments_lexer": "ipython3",
   "version": "3.8.13"
  },
  "orig_nbformat": 4
 },
 "nbformat": 4,
 "nbformat_minor": 2
}
