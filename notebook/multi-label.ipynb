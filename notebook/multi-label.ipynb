{
 "cells": [
  {
   "cell_type": "code",
   "execution_count": 1,
   "metadata": {},
   "outputs": [],
   "source": [
    "import os\n",
    "import sys\n",
    "sys.path.append('../')\n",
    "import utils.csv as csv\n",
    "import pandas as pd\n",
    "import sklearn.metrics as skl"
   ]
  },
  {
   "cell_type": "code",
   "execution_count": 2,
   "metadata": {},
   "outputs": [],
   "source": [
    "# file path\n",
    "PATH = os.path.join('..', 'outputs', 'csv','multi_label', '04')\n",
    "models = ['transformer', 'lstm', 'bi-lstm']\n",
    "uid = '7ml20'\n",
    "cols = ['Spruce','Silver Fir','Douglas Fir','Pine','Oak','Beech','Sycamore']\n",
    "indexes = ['Precision', 'Recall', 'F1']"
   ]
  },
  {
   "cell_type": "code",
   "execution_count": 7,
   "metadata": {},
   "outputs": [
    {
     "name": "stdout",
     "output_type": "stream",
     "text": [
      "Accuracy {'transformer': 0.49780827139317707, 'lstm': 0.46807699637888317, 'bi-lstm': 0.45683247570040025}\n",
      "Hamming {'transformer': 0.8967301042772741, 'lstm': 0.8895423235045876, 'bi-lstm': 0.8859484331182444}\n",
      "Precision {'transformer': 0.7957914575166565, 'lstm': 0.7982306117526757, 'bi-lstm': 0.769247863374583}\n",
      "Recall {'transformer': 0.7594366847512409, 'lstm': 0.7091076994112894, 'bi-lstm': 0.741775366501212}\n",
      "F1 {'transformer': 0.7730407309637375, 'lstm': 0.7475855005156916, 'bi-lstm': 0.7474731285460074}\n"
     ]
    }
   ],
   "source": [
    "acc = {}\n",
    "hamming = {}\n",
    "precision = {}\n",
    "recall = {}\n",
    "f1 = {}\n",
    "for model in models:\n",
    "    # load csv file\n",
    "    ref_path = os.path.join(PATH, f'{model}_{uid}_ref.csv')\n",
    "    pred_path = os.path.join(PATH, f'{model}_{uid}_pred.csv')\n",
    "    ref = csv.load(ref_path, 'id')\n",
    "    pred = csv.load(pred_path, 'id')\n",
    "    # calculate generall terms\n",
    "    acc[model] = skl.accuracy_score(ref, pred)\n",
    "    precision[model] = skl.precision_score(ref, pred, average='weighted')\n",
    "    recall[model] = skl.recall_score(ref, pred, average='weighted')\n",
    "    f1[model] = skl.f1_score(ref, pred, average='weighted')\n",
    "    hamming[model] = 1 - skl.hamming_loss(ref, pred)\n",
    "    # new dataframe\n",
    "    df = pd.DataFrame(columns=cols, index=indexes)\n",
    "    df.index.name = 'index'\n",
    "    # precision, recall & F1\n",
    "    df.iloc[0] = skl.precision_score(ref, pred, average=None)\n",
    "    df.iloc[1] = skl.recall_score(ref, pred, average=None)\n",
    "    df.iloc[2] = skl.f1_score(ref, pred, average=None)\n",
    "    df = df.astype('float')\n",
    "    df = df.round(2)\n",
    "    # export matrix\n",
    "    out_path = os.path.join(PATH, f'{model}_{uid}_matrix.csv')\n",
    "    # csv.export(df, out_path, True)\n",
    "print('Accuracy', acc)\n",
    "print('Hamming', hamming)\n",
    "print('Precision', precision)\n",
    "print('Recall', recall)\n",
    "print('F1', f1)"
   ]
  },
  {
   "cell_type": "code",
   "execution_count": 9,
   "metadata": {},
   "outputs": [
    {
     "name": "stdout",
     "output_type": "stream",
     "text": [
      "export file ..\\outputs\\csv\\multi_label\\04\\transformer_7ml_count.csv\n"
     ]
    }
   ],
   "source": [
    "class_path = 'D:\\\\Deutschland\\\\FUB\\\\master_thesis\\\\data\\\\ref\\\\all\\\\7main_classes.csv'\n",
    "classes = csv.load(class_path, 'id')\n",
    "res = pred == ref\n",
    "res['sum'] = res.sum(axis=1)\n",
    "res.sort_values(by='sum', ascending=False, inplace=True)\n",
    "output = pd.merge(res, classes, on='id', how='inner')\n",
    "out_path = os.path.join(PATH, f'{model}_{uid}_count.csv')\n",
    "csv.export(output, out_path, True)"
   ]
  }
 ],
 "metadata": {
  "interpreter": {
   "hash": "57200abac2ff18432c53e10587ceb364acdd46eebe90c6833204d1f95e2c9eff"
  },
  "kernelspec": {
   "display_name": "Python 3.8.13 ('yolov5')",
   "language": "python",
   "name": "python3"
  },
  "language_info": {
   "codemirror_mode": {
    "name": "ipython",
    "version": 3
   },
   "file_extension": ".py",
   "mimetype": "text/x-python",
   "name": "python",
   "nbconvert_exporter": "python",
   "pygments_lexer": "ipython3",
   "version": "3.8.13"
  },
  "orig_nbformat": 4
 },
 "nbformat": 4,
 "nbformat_minor": 2
}
