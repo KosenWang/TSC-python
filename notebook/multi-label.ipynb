{
 "cells": [
  {
   "cell_type": "code",
   "execution_count": 1,
   "metadata": {},
   "outputs": [],
   "source": [
    "import os\n",
    "import sys\n",
    "import pandas as pd\n",
    "import numpy as np\n",
    "import sklearn.metrics as skl\n",
    "sys.path.append('../')\n",
    "import utils.csv as csv\n",
    "import utils.shp as shp\n",
    "import utils.plot as plot"
   ]
  },
  {
   "cell_type": "code",
   "execution_count": 2,
   "metadata": {},
   "outputs": [],
   "source": [
    "# file path\n",
    "PATH = os.path.join('..', 'outputs', 'csv','multi_label', '04')\n",
    "# PATH = os.path.join('..', 'outputs', 'csv', 'map', 'multi_label', '04')\n",
    "SHP_PATH ='D:\\\\Deutschland\\\\FUB\\\\master_thesis\\\\data\\\\Reference_data\\\\validation\\\\aoi_polygons.shp'\n",
    "LABEL_PATH = 'D:\\\\Deutschland\\\\FUB\\\\master_thesis\\\\data\\\\ref\\\\validation\\\\multi_aoi.csv'\n",
    "models = ['transformer', 'lstm', 'bi-lstm']\n",
    "uid = '7ml20'\n",
    "cols = ['Spruce','Silver Fir','Douglas Fir','Pine','Oak','Beech','Sycamore']\n",
    "indexes = ['Precision', 'Recall', 'F1']"
   ]
  },
  {
   "attachments": {},
   "cell_type": "markdown",
   "metadata": {},
   "source": [
    "Metrics"
   ]
  },
  {
   "cell_type": "code",
   "execution_count": 7,
   "metadata": {},
   "outputs": [
    {
     "name": "stdout",
     "output_type": "stream",
     "text": [
      "Accuracy {'transformer': 0.49780827139317707, 'lstm': 0.46807699637888317, 'bi-lstm': 0.45683247570040025}\n",
      "Hamming {'transformer': 0.8967301042772741, 'lstm': 0.8895423235045876, 'bi-lstm': 0.8859484331182444}\n",
      "Precision {'transformer': 0.7957914575166565, 'lstm': 0.7982306117526757, 'bi-lstm': 0.769247863374583}\n",
      "Recall {'transformer': 0.7594366847512409, 'lstm': 0.7091076994112894, 'bi-lstm': 0.741775366501212}\n",
      "F1 {'transformer': 0.7730407309637375, 'lstm': 0.7475855005156916, 'bi-lstm': 0.7474731285460074}\n"
     ]
    }
   ],
   "source": [
    "acc = {}\n",
    "hamming = {}\n",
    "precision = {}\n",
    "recall = {}\n",
    "f1 = {}\n",
    "for model in models:\n",
    "    # load csv file\n",
    "    ref_path = os.path.join(PATH, f'{model}_{uid}_ref.csv')\n",
    "    pred_path = os.path.join(PATH, f'{model}_{uid}_pred.csv')\n",
    "    ref = csv.load(ref_path, 'id')\n",
    "    pred = csv.load(pred_path, 'id')\n",
    "    # calculate generall terms\n",
    "    acc[model] = skl.accuracy_score(ref, pred)\n",
    "    precision[model] = skl.precision_score(ref, pred, average='weighted')\n",
    "    recall[model] = skl.recall_score(ref, pred, average='weighted')\n",
    "    f1[model] = skl.f1_score(ref, pred, average='weighted')\n",
    "    hamming[model] = 1 - skl.hamming_loss(ref, pred)\n",
    "    # new dataframe\n",
    "    df = pd.DataFrame(columns=cols, index=indexes)\n",
    "    df.index.name = 'index'\n",
    "    # precision, recall & F1\n",
    "    df.iloc[0] = skl.precision_score(ref, pred, average=None)\n",
    "    df.iloc[1] = skl.recall_score(ref, pred, average=None)\n",
    "    df.iloc[2] = skl.f1_score(ref, pred, average=None)\n",
    "    df = df.astype('float')\n",
    "    df = df.round(2)\n",
    "    # export matrix\n",
    "    out_path = os.path.join(PATH, f'{model}_{uid}_matrix.csv')\n",
    "    # csv.export(df, out_path, True)\n",
    "print('Accuracy', acc)\n",
    "print('Hamming', hamming)\n",
    "print('Precision', precision)\n",
    "print('Recall', recall)\n",
    "print('F1', f1)"
   ]
  },
  {
   "attachments": {},
   "cell_type": "markdown",
   "metadata": {},
   "source": [
    "Map for AOI"
   ]
  },
  {
   "cell_type": "code",
   "execution_count": 3,
   "metadata": {},
   "outputs": [
    {
     "name": "stdout",
     "output_type": "stream",
     "text": [
      "import file D:\\Deutschland\\FUB\\master_thesis\\data\\Reference_data\\validation\\aoi_polygons.shp\n"
     ]
    },
    {
     "data": {
      "text/plain": [
       "<Figure size 720x576 with 0 Axes>"
      ]
     },
     "metadata": {},
     "output_type": "display_data"
    },
    {
     "data": {
      "text/plain": [
       "<Figure size 720x576 with 0 Axes>"
      ]
     },
     "metadata": {},
     "output_type": "display_data"
    },
    {
     "data": {
      "text/plain": [
       "<Figure size 720x576 with 0 Axes>"
      ]
     },
     "metadata": {},
     "output_type": "display_data"
    },
    {
     "data": {
      "text/plain": [
       "<Figure size 720x576 with 0 Axes>"
      ]
     },
     "metadata": {},
     "output_type": "display_data"
    },
    {
     "data": {
      "text/plain": [
       "<Figure size 720x576 with 0 Axes>"
      ]
     },
     "metadata": {},
     "output_type": "display_data"
    },
    {
     "data": {
      "text/plain": [
       "<Figure size 720x576 with 0 Axes>"
      ]
     },
     "metadata": {},
     "output_type": "display_data"
    },
    {
     "data": {
      "text/plain": [
       "<Figure size 720x576 with 0 Axes>"
      ]
     },
     "metadata": {},
     "output_type": "display_data"
    },
    {
     "data": {
      "text/plain": [
       "<Figure size 720x576 with 0 Axes>"
      ]
     },
     "metadata": {},
     "output_type": "display_data"
    },
    {
     "data": {
      "text/plain": [
       "<Figure size 720x576 with 0 Axes>"
      ]
     },
     "metadata": {},
     "output_type": "display_data"
    }
   ],
   "source": [
    "aoi = shp.load_shp_file(SHP_PATH)\n",
    "labels = csv.load(LABEL_PATH, 'id')\n",
    "for model in models:\n",
    "    # load\n",
    "    pred_path = os.path.join(PATH, f'{model}_{uid}_pred.csv')\n",
    "    pred =  csv.load(pred_path, 'id')\n",
    "    gdf = pd.merge(aoi, pred, on='id', how='inner')\n",
    "    gdf.set_index('id', inplace=True)\n",
    "    # compare\n",
    "    gdf['sum'] = (labels == gdf.iloc[:, 19:]).sum(axis=1)\n",
    "    # export\n",
    "    out_path = os.path.join(PATH, f'{model}_{uid}_map.csv')\n",
    "    # csv.export(gdf, out_path, True)\n",
    "    # draw map\n",
    "    aoi_1 = gdf[gdf['Location'] == 'Hardtwald_pine_beech_redoak']\n",
    "    aoi_2 = gdf[gdf['Location'] == 'schoenbuch_beech_oak_mixture']\n",
    "    aoi_3 = gdf[gdf['Location'] == 'Schwarzwald_spruce_silverfir_douglasfir']\n",
    "    areas = {'Hardtwald':aoi_1, 'Schoenbuch':aoi_2, 'Schwarzwald':aoi_3}\n",
    "    for area, gdf in areas.items():\n",
    "        plot.draw_symbol_map(gdf, area, f'{model}_{uid}')\n"
   ]
  },
  {
   "attachments": {},
   "cell_type": "markdown",
   "metadata": {},
   "source": [
    "Number of right label in AOI"
   ]
  },
  {
   "cell_type": "code",
   "execution_count": 3,
   "metadata": {},
   "outputs": [
    {
     "name": "stdout",
     "output_type": "stream",
     "text": [
      "0 wrong {'Hardtwald': {'transformer': 0.7755102040816326, 'lstm': 0.673469387755102, 'bi-lstm': 0.7346938775510204}, 'Schwarzwald': {'transformer': 0.25925925925925924, 'lstm': 0.18518518518518517, 'bi-lstm': 0.16666666666666666}, 'schoenbuch': {'transformer': 0.4835164835164835, 'lstm': 0.4945054945054945, 'bi-lstm': 0.4175824175824176}}\n",
      "1 wrong {'Hardtwald': {'transformer': 0.20408163265306123, 'lstm': 0.24489795918367346, 'bi-lstm': 0.1836734693877551}, 'Schwarzwald': {'transformer': 0.2962962962962963, 'lstm': 0.48148148148148145, 'bi-lstm': 0.2962962962962963}, 'schoenbuch': {'transformer': 0.3956043956043956, 'lstm': 0.27472527472527475, 'bi-lstm': 0.37362637362637363}}\n"
     ]
    }
   ],
   "source": [
    "loc_0_wrong = {'Hardtwald':{}, 'Schwarzwald':{}, 'schoenbuch':{}}\n",
    "loc_1_wrong = {'Hardtwald':{}, 'Schwarzwald':{}, 'schoenbuch':{}}\n",
    "for model in models:\n",
    "    pred_path = os.path.join(PATH, f'{model}_{uid}_map.csv')\n",
    "    pred = csv.load(pred_path, 'id')\n",
    "    group = pred.groupby('Location')\n",
    "    for key, df in group:\n",
    "        loc = key.split('_')[0]\n",
    "        total = df.shape[0]\n",
    "        loc_0_wrong[loc][model] = sum(df['sum'] == 7) / total\n",
    "        loc_1_wrong[loc][model] = sum(df['sum'] == 6) / total\n",
    "print('0 wrong',loc_0_wrong)\n",
    "print('1 wrong', loc_1_wrong)"
   ]
  },
  {
   "attachments": {},
   "cell_type": "markdown",
   "metadata": {},
   "source": [
    "Test"
   ]
  },
  {
   "cell_type": "code",
   "execution_count": 5,
   "metadata": {},
   "outputs": [
    {
     "ename": "NameError",
     "evalue": "name 'ref' is not defined",
     "output_type": "error",
     "traceback": [
      "\u001b[1;31m---------------------------------------------------------------------------\u001b[0m",
      "\u001b[1;31mNameError\u001b[0m                                 Traceback (most recent call last)",
      "\u001b[1;32md:\\Codes\\python\\TSC-python\\notebook\\multi-label.ipynb Cell 10\u001b[0m in \u001b[0;36m<cell line: 3>\u001b[1;34m()\u001b[0m\n\u001b[0;32m      <a href='vscode-notebook-cell:/d%3A/Codes/python/TSC-python/notebook/multi-label.ipynb#X12sZmlsZQ%3D%3D?line=3'>4</a>\u001b[0m pred_path \u001b[39m=\u001b[39m os\u001b[39m.\u001b[39mpath\u001b[39m.\u001b[39mjoin(PATH, \u001b[39mf\u001b[39m\u001b[39m'\u001b[39m\u001b[39m{\u001b[39;00mmodel\u001b[39m}\u001b[39;00m\u001b[39m_\u001b[39m\u001b[39m{\u001b[39;00muid\u001b[39m}\u001b[39;00m\u001b[39m_pred.csv\u001b[39m\u001b[39m'\u001b[39m)\n\u001b[0;32m      <a href='vscode-notebook-cell:/d%3A/Codes/python/TSC-python/notebook/multi-label.ipynb#X12sZmlsZQ%3D%3D?line=4'>5</a>\u001b[0m pred \u001b[39m=\u001b[39m csv\u001b[39m.\u001b[39mload(pred_path, \u001b[39m'\u001b[39m\u001b[39mid\u001b[39m\u001b[39m'\u001b[39m)\n\u001b[1;32m----> <a href='vscode-notebook-cell:/d%3A/Codes/python/TSC-python/notebook/multi-label.ipynb#X12sZmlsZQ%3D%3D?line=5'>6</a>\u001b[0m res \u001b[39m=\u001b[39m pred \u001b[39m==\u001b[39m ref\n\u001b[0;32m      <a href='vscode-notebook-cell:/d%3A/Codes/python/TSC-python/notebook/multi-label.ipynb#X12sZmlsZQ%3D%3D?line=6'>7</a>\u001b[0m res[\u001b[39m'\u001b[39m\u001b[39msum\u001b[39m\u001b[39m'\u001b[39m] \u001b[39m=\u001b[39m res\u001b[39m.\u001b[39msum(axis\u001b[39m=\u001b[39m\u001b[39m1\u001b[39m)\n\u001b[0;32m      <a href='vscode-notebook-cell:/d%3A/Codes/python/TSC-python/notebook/multi-label.ipynb#X12sZmlsZQ%3D%3D?line=7'>8</a>\u001b[0m res\u001b[39m.\u001b[39msort_values(by\u001b[39m=\u001b[39m\u001b[39m'\u001b[39m\u001b[39msum\u001b[39m\u001b[39m'\u001b[39m, ascending\u001b[39m=\u001b[39m\u001b[39mFalse\u001b[39;00m, inplace\u001b[39m=\u001b[39m\u001b[39mTrue\u001b[39;00m)\n",
      "\u001b[1;31mNameError\u001b[0m: name 'ref' is not defined"
     ]
    }
   ],
   "source": [
    "class_path = 'D:\\\\Deutschland\\\\FUB\\\\master_thesis\\\\data\\\\ref\\\\all\\\\7main_classes.csv'\n",
    "classes = csv.load(class_path, 'id')\n",
    "for model in models:\n",
    "    pred_path = os.path.join(PATH, f'{model}_{uid}_pred.csv')\n",
    "    pred = csv.load(pred_path, 'id')\n",
    "    res = pred == ref\n",
    "    res['sum'] = res.sum(axis=1)\n",
    "    res.sort_values(by='sum', ascending=False, inplace=True)\n",
    "    output = pd.merge(res, classes, on='id', how='inner')\n",
    "    out_path = os.path.join(PATH, f'{model}_{uid}_count.csv')\n",
    "    csv.export(output, out_path, True)"
   ]
  }
 ],
 "metadata": {
  "interpreter": {
   "hash": "57200abac2ff18432c53e10587ceb364acdd46eebe90c6833204d1f95e2c9eff"
  },
  "kernelspec": {
   "display_name": "Python 3.8.13 ('yolov5')",
   "language": "python",
   "name": "python3"
  },
  "language_info": {
   "codemirror_mode": {
    "name": "ipython",
    "version": 3
   },
   "file_extension": ".py",
   "mimetype": "text/x-python",
   "name": "python",
   "nbconvert_exporter": "python",
   "pygments_lexer": "ipython3",
   "version": "3.8.13"
  },
  "orig_nbformat": 4
 },
 "nbformat": 4,
 "nbformat_minor": 2
}
