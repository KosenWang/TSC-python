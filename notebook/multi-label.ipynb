{
 "cells": [
  {
   "cell_type": "code",
   "execution_count": 5,
   "metadata": {},
   "outputs": [],
   "source": [
    "import torch\n",
    "from torch import nn\n",
    "import os\n",
    "import sys\n",
    "sys.path.append('../')\n",
    "import utils.csv as csv\n",
    "from torchmetrics.classification import MultilabelF1Score\n",
    "import pandas as pd\n",
    "from matplotlib import pyplot as plt\n",
    "from sklearn.metrics import confusion_matrix\n",
    "import json"
   ]
  },
  {
   "cell_type": "code",
   "execution_count": 2,
   "metadata": {},
   "outputs": [],
   "source": [
    "# file path\n",
    "PATH='D:\\\\Deutschland\\\\FUB\\\\master_thesis\\\\data\\\\gee\\\\output'\n",
    "DATA_DIR = os.path.join(PATH, 'daily_padding')\n",
    "LABEL_CSV = 'label_multi.csv'\n",
    "\n",
    "label_path = os.path.join(PATH, LABEL_CSV)"
   ]
  },
  {
   "cell_type": "code",
   "execution_count": 2,
   "metadata": {},
   "outputs": [],
   "source": [
    "# general hyperparameters\n",
    "BATCH_SIZE = 128\n",
    "LR = 0.01\n",
    "EPOCH = 100\n",
    "SEED = 2048"
   ]
  },
  {
   "cell_type": "code",
   "execution_count": 10,
   "metadata": {},
   "outputs": [],
   "source": [
    "params = {'batch_size': BATCH_SIZE, 'learning rate': LR, 'others': {'epoch': EPOCH, 'seed':SEED}}\n",
    "with open('test.json', 'w') as f:\n",
    "    data = json.dumps(params, indent=4)\n",
    "    f.write(data)"
   ]
  },
  {
   "cell_type": "code",
   "execution_count": 7,
   "metadata": {},
   "outputs": [
    {
     "data": {
      "text/plain": [
       "0.3333333432674408"
      ]
     },
     "execution_count": 7,
     "metadata": {},
     "output_type": "execute_result"
    }
   ],
   "source": [
    "y_true = torch.tensor([[1,0,0], [0,0,1], [0,1,0], [0,1,1]])\n",
    "y_pred = torch.tensor([[1,0,0], [0,0,0], [0,0,0], [0,0,0]])\n",
    "f1_score = MultilabelF1Score(num_labels=y_true.size(1))\n",
    "acc = f1_score(y_pred, y_true).item()\n",
    "acc"
   ]
  },
  {
   "cell_type": "code",
   "execution_count": null,
   "metadata": {},
   "outputs": [],
   "source": [
    "fig, axes = plt.subplots(3, 3, figsize=(10, 10), sharex=True, sharey=True)\n",
    "for k in range(ref.shape[1]):\n",
    "    header = ref.columns[k]\n",
    "    y_pred = pred.iloc[:, k]\n",
    "    y_true = ref.iloc[:, k]\n",
    "    # confusion matrix\n",
    "    matrix = confusion_matrix(y_true, y_pred)\n",
    "    # draw figure\n",
    "    plt.subplot(3, 3, k + 1)\n",
    "    plt.imshow(matrix, interpolation='nearest', cmap=plt.cm.Blues)\n",
    "    thresh = matrix.max() / 2.\n",
    "    for i in range(len(matrix)):    \n",
    "        for j in range(len(matrix[i])):    \n",
    "            plt.text(j, i, format(matrix[i][j]), \n",
    "                    ha=\"center\", va=\"center\", \n",
    "                    color=\"white\" if matrix[i, j] >= thresh else \"black\")\n",
    "    #set title and label\n",
    "    indices = range(len(matrix))\n",
    "    plt.xticks(indices)\n",
    "    plt.yticks(indices)\n",
    "    if k % 3 == 0:\n",
    "        plt.ylabel('Reference')\n",
    "    if k // 3 == 2:\n",
    "        plt.xlabel('Prediction')\n",
    "    plt.title(header)\n",
    "plt.suptitle('multi confusion matrix')"
   ]
  }
 ],
 "metadata": {
  "interpreter": {
   "hash": "57200abac2ff18432c53e10587ceb364acdd46eebe90c6833204d1f95e2c9eff"
  },
  "kernelspec": {
   "display_name": "Python 3.8.13 ('yolov5')",
   "language": "python",
   "name": "python3"
  },
  "language_info": {
   "codemirror_mode": {
    "name": "ipython",
    "version": 3
   },
   "file_extension": ".py",
   "mimetype": "text/x-python",
   "name": "python",
   "nbconvert_exporter": "python",
   "pygments_lexer": "ipython3",
   "version": "3.8.13"
  },
  "orig_nbformat": 4
 },
 "nbformat": 4,
 "nbformat_minor": 2
}
