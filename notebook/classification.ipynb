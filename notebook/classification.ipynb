{
 "cells": [
  {
   "cell_type": "code",
   "execution_count": 1,
   "metadata": {},
   "outputs": [],
   "source": [
    "\n",
    "import os\n",
    "import sys\n",
    "import sklearn.metrics as skl\n",
    "import pandas as pd\n",
    "sys.path.append('../')\n",
    "import utils.csv as csv\n",
    "import utils.plot as plot"
   ]
  },
  {
   "cell_type": "code",
   "execution_count": 2,
   "metadata": {},
   "outputs": [],
   "source": [
    "# file path\n",
    "PATH = os.path.join('..', 'outputs', 'csv','classification', '04')\n",
    "models = ['transformer', 'lstm', 'bi-lstm']\n",
    "uid = '8pure9'\n",
    "cols = ['Spruce','Silver Fir','Douglas Fir','Pine','Oak','Red Oak','Beech','Sycamore','Others']\n",
    "indexes = ['Precision', 'Recall', 'F1']"
   ]
  },
  {
   "cell_type": "code",
   "execution_count": 3,
   "metadata": {},
   "outputs": [
    {
     "name": "stdout",
     "output_type": "stream",
     "text": [
      "export file ..\\outputs\\csv\\classification\\04\\transformer_8pure9_matrix.csv\n",
      "export file ..\\outputs\\csv\\classification\\04\\lstm_8pure9_matrix.csv\n",
      "export file ..\\outputs\\csv\\classification\\04\\bi-lstm_8pure9_matrix.csv\n",
      "{'transformer': 0.8726342710997442, 'lstm': 0.8398976982097187, 'bi-lstm': 0.8470588235294118}\n"
     ]
    }
   ],
   "source": [
    "accs = {}\n",
    "for model in models:\n",
    "    # load csv file\n",
    "    ref_path = os.path.join(PATH, f'{model}_{uid}_ref.csv')\n",
    "    pred_path = os.path.join(PATH, f'{model}_{uid}_pred.csv')\n",
    "    ref = csv.load(ref_path, 'id')\n",
    "    pred = csv.load(pred_path, 'id')\n",
    "    # calculate accuracy\n",
    "    acc = skl.accuracy_score(ref, pred)\n",
    "    accs[model] = acc\n",
    "    # new dataframe\n",
    "    df = pd.DataFrame(columns=cols, index=indexes)\n",
    "    df.index.name = 'index'\n",
    "    # precision, recall & F1\n",
    "    df.iloc[0] = skl.precision_score(ref, pred, average=None)\n",
    "    df.iloc[1] = skl.recall_score(ref, pred, average=None)\n",
    "    df.iloc[2] = skl.f1_score(ref, pred, average=None)\n",
    "    df = df.astype('float')\n",
    "    df = df.round(2)\n",
    "    # export matrix\n",
    "    out_path = os.path.join(PATH, f'{model}_{uid}_matrix.csv')\n",
    "    csv.export(df, out_path, True)\n",
    "    # plot.draw_confusion_matrix(ref, pred, cols, f'{model}_{uid}')\n",
    "print(accs)"
   ]
  }
 ],
 "metadata": {
  "interpreter": {
   "hash": "57200abac2ff18432c53e10587ceb364acdd46eebe90c6833204d1f95e2c9eff"
  },
  "kernelspec": {
   "display_name": "Python 3.8.13 ('yolov5')",
   "language": "python",
   "name": "python3"
  },
  "language_info": {
   "codemirror_mode": {
    "name": "ipython",
    "version": 3
   },
   "file_extension": ".py",
   "mimetype": "text/x-python",
   "name": "python",
   "nbconvert_exporter": "python",
   "pygments_lexer": "ipython3",
   "version": "3.8.13"
  },
  "orig_nbformat": 4
 },
 "nbformat": 4,
 "nbformat_minor": 2
}
