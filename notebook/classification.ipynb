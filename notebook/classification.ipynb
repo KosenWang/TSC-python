{
 "cells": [
  {
   "cell_type": "code",
   "execution_count": 2,
   "metadata": {},
   "outputs": [
    {
     "name": "stderr",
     "output_type": "stream",
     "text": [
      "d:\\LenovoSoftstore\\Anaconda\\envs\\yolov5\\lib\\site-packages\\tqdm\\auto.py:22: TqdmWarning: IProgress not found. Please update jupyter and ipywidgets. See https://ipywidgets.readthedocs.io/en/stable/user_install.html\n",
      "  from .autonotebook import tqdm as notebook_tqdm\n"
     ]
    }
   ],
   "source": [
    "import numpy as np\n",
    "import torch\n",
    "from torch import nn, optim, Tensor\n",
    "import torch.utils.data as Data\n",
    "import os\n",
    "import sys\n",
    "import pandas as pd\n",
    "sys.path.append('../')\n",
    "import utils.csv as csv\n",
    "from sklearn.metrics import confusion_matrix"
   ]
  },
  {
   "cell_type": "code",
   "execution_count": 3,
   "metadata": {},
   "outputs": [],
   "source": [
    "PATH='D:\\\\Deutschland\\\\FUB\\\\master_thesis\\\\data'\n",
    "DATA_DIR = os.path.join(PATH, 'gee', 'output', 'daily_padding')\n",
    "LABEL_PATH = os.path.join(PATH, 'ref', 'part', 'label_pure.csv')\n",
    "num_bands = 10"
   ]
  },
  {
   "cell_type": "code",
   "execution_count": 4,
   "metadata": {},
   "outputs": [
    {
     "data": {
      "text/plain": [
       "array([[133, 120, 130, 134, 126],\n",
       "       [ 43,  40,  33,  50,  51],\n",
       "       [ 49,  43,  44,  45,  51],\n",
       "       [ 34,  40,  37,  27,  39],\n",
       "       [ 20,  28,  24,  21,  18]], dtype=int64)"
      ]
     },
     "execution_count": 4,
     "metadata": {},
     "output_type": "execute_result"
    }
   ],
   "source": [
    "ref = csv.load(LABEL_PATH, None)\n",
    "y_list = []\n",
    "for index, row in ref.iterrows():\n",
    "    y = row[:]\n",
    "    y_list.append(y)\n",
    "y_data = np.array(y_list)\n",
    "y_set = torch.from_numpy(y_data)\n",
    "y_true = []\n",
    "y_pred = []\n",
    "y_true += y_set.tolist()\n",
    "predicted = torch.randint(0, 5, [1380])\n",
    "y_set[:, 1] = predicted\n",
    "y_pred += y_set.tolist()\n",
    "ref = csv.list_to_dataframe(y_true, ['id', 'class'], False)\n",
    "pred = csv.list_to_dataframe(y_pred, ['id', 'class'], False)\n",
    "ref.set_index('id', inplace=True)\n",
    "pred.set_index('id', inplace=True)\n",
    "confusion_matrix(ref, pred)"
   ]
  },
  {
   "cell_type": "code",
   "execution_count": 6,
   "metadata": {},
   "outputs": [
    {
     "data": {
      "text/plain": [
       "tensor([[[-1.4638, -1.4639, -1.4639, -1.4639],\n",
       "         [-0.8783, -0.8783, -0.8783, -0.8783],\n",
       "         [-0.2928, -0.2928, -0.2928, -0.2928]],\n",
       "\n",
       "        [[ 0.2928,  0.2928,  0.2928,  0.2928],\n",
       "         [ 0.8783,  0.8783,  0.8783,  0.8783],\n",
       "         [ 1.4638,  1.4639,  1.4639,  1.4639]]], grad_fn=<ViewBackward>)"
      ]
     },
     "execution_count": 6,
     "metadata": {},
     "output_type": "execute_result"
    }
   ],
   "source": [
    "x = torch.tensor([\n",
    "    [[1, 10, 100, 1000], [2, 20, 200, 2000], [3, 30, 300, 3000]],\n",
    "    [[4, 40, 400, 4000], [5, 50, 500, 5000], [6, 60, 600, 6000]]\n",
    "]).float()\n",
    "x_reshaped = x.view(-1, 4)\n",
    "batch_norm = nn.BatchNorm1d(4)\n",
    "x_normalized:Tensor = batch_norm(x_reshaped)\n",
    "x_normalized = x_normalized.view(2, 3, 4)\n",
    "x_normalized"
   ]
  }
 ],
 "metadata": {
  "interpreter": {
   "hash": "57200abac2ff18432c53e10587ceb364acdd46eebe90c6833204d1f95e2c9eff"
  },
  "kernelspec": {
   "display_name": "Python 3.8.13 ('yolov5')",
   "language": "python",
   "name": "python3"
  },
  "language_info": {
   "codemirror_mode": {
    "name": "ipython",
    "version": 3
   },
   "file_extension": ".py",
   "mimetype": "text/x-python",
   "name": "python",
   "nbconvert_exporter": "python",
   "pygments_lexer": "ipython3",
   "version": "3.8.13"
  },
  "orig_nbformat": 4
 },
 "nbformat": 4,
 "nbformat_minor": 2
}
