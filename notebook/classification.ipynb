{
 "cells": [
  {
   "cell_type": "code",
   "execution_count": 4,
   "metadata": {},
   "outputs": [],
   "source": [
    "\n",
    "import os\n",
    "import sys\n",
    "import sklearn.metrics as skl\n",
    "import pandas as pd\n",
    "sys.path.append('../')\n",
    "import utils.csv as csv\n",
    "import utils.shp as shp"
   ]
  },
  {
   "cell_type": "code",
   "execution_count": 6,
   "metadata": {},
   "outputs": [],
   "source": [
    "# file path\n",
    "# PATH = os.path.join('..', 'outputs', 'csv','classification', '04')\n",
    "PATH = os.path.join('..', 'outputs', 'csv', 'map', 'classification', '04')\n",
    "SHP_PATH ='D:\\\\Deutschland\\\\FUB\\\\master_thesis\\\\data\\\\Reference_data\\\\validation\\\\aoi_polygons.shp'\n",
    "models = ['transformer', 'lstm', 'bi-lstm']\n",
    "uid = '8pure9'\n",
    "cols = ['Spruce','Silver Fir','Douglas Fir','Pine','Oak','Red Oak','Beech','Sycamore','Others']\n",
    "indexes = ['Precision', 'Recall', 'F1']"
   ]
  },
  {
   "attachments": {},
   "cell_type": "markdown",
   "metadata": {},
   "source": [
    "Metrics"
   ]
  },
  {
   "cell_type": "code",
   "execution_count": 4,
   "metadata": {},
   "outputs": [
    {
     "name": "stdout",
     "output_type": "stream",
     "text": [
      "Accuracy {'transformer': 0.8726342710997442, 'lstm': 0.8542199488491049, 'bi-lstm': 0.8409207161125319}\n",
      "Precision {'transformer': 0.8815746154253887, 'lstm': 0.8595361995346423, 'bi-lstm': 0.8469330618449444}\n",
      "Recall {'transformer': 0.8726342710997442, 'lstm': 0.8542199488491049, 'bi-lstm': 0.8409207161125319}\n",
      "F1 {'transformer': 0.8758409393290116, 'lstm': 0.8555504619047384, 'bi-lstm': 0.8429142223624555}\n"
     ]
    }
   ],
   "source": [
    "acc = {}\n",
    "precision = {}\n",
    "recall = {}\n",
    "f1 = {}\n",
    "for model in models:\n",
    "    # load csv file\n",
    "    ref_path = os.path.join(PATH, f'{model}_{uid}_ref.csv')\n",
    "    pred_path = os.path.join(PATH, f'{model}_{uid}_pred.csv')\n",
    "    ref = csv.load(ref_path, 'id')\n",
    "    pred = csv.load(pred_path, 'id')\n",
    "    # calculate generall terms\n",
    "    acc[model] = skl.accuracy_score(ref, pred)\n",
    "    precision[model] = skl.precision_score(ref, pred, average='weighted')\n",
    "    recall[model] = skl.recall_score(ref, pred, average='weighted')\n",
    "    f1[model] = skl.f1_score(ref, pred, average='weighted')\n",
    "    # new dataframe\n",
    "    df = pd.DataFrame(columns=cols, index=indexes)\n",
    "    df.index.name = 'index'\n",
    "    # precision, recall & F1\n",
    "    df.iloc[0] = skl.precision_score(ref, pred, average=None)\n",
    "    df.iloc[1] = skl.recall_score(ref, pred, average=None)\n",
    "    df.iloc[2] = skl.f1_score(ref, pred, average=None)\n",
    "    df = df.astype('float')\n",
    "    df = df.round(2)\n",
    "    # export matrix\n",
    "    out_path = os.path.join(PATH, f'{model}_{uid}_matrix.csv')\n",
    "    # csv.export(df, out_path, True)\n",
    "    # plot.draw_confusion_matrix(ref, pred, cols, f'{model}_{uid}')\n",
    "print('Accuracy', acc)\n",
    "print('Precision', precision)\n",
    "print('Recall', recall)\n",
    "print('F1', f1)"
   ]
  },
  {
   "attachments": {},
   "cell_type": "markdown",
   "metadata": {},
   "source": [
    "Overall Top1 and Top2 Accuracy"
   ]
  },
  {
   "cell_type": "code",
   "execution_count": 25,
   "metadata": {},
   "outputs": [
    {
     "name": "stdout",
     "output_type": "stream",
     "text": [
      "import file D:\\Deutschland\\FUB\\master_thesis\\data\\Reference_data\\validation\\aoi_polygons.shp\n",
      "export file ..\\outputs\\csv\\map\\classification\\04\\transformer_8pure9_map.csv\n",
      "export file ..\\outputs\\csv\\map\\classification\\04\\lstm_8pure9_map.csv\n",
      "export file ..\\outputs\\csv\\map\\classification\\04\\bi-lstm_8pure9_map.csv\n",
      "Top1 Acc {'transformer': 0.6752577319587629, 'lstm': 0.5670103092783505, 'bi-lstm': 0.6185567010309279}\n",
      "Top2 Acc {'transformer': 0.865979381443299, 'lstm': 0.7474226804123711, 'bi-lstm': 0.8298969072164949}\n"
     ]
    }
   ],
   "source": [
    "aoi = shp.load_shp_file(SHP_PATH)\n",
    "top1_acc = {}\n",
    "top2_acc = {}\n",
    "for model in models:\n",
    "    # load data\n",
    "    pred_path = os.path.join(PATH, f'{model}_{uid}_pred.csv')\n",
    "    pred = csv.load(pred_path, 'id')\n",
    "    gdf = pd.merge(aoi, pred, on='id', how='inner')\n",
    "    # map BA_1 and BA_2 to class number\n",
    "    class_num = {110:0, 210:1, 310:2, 410:3, 600:4, 630:5, 710:6, 821:7}\n",
    "    gdf['ref_1'] = gdf['BST1_BA_1'].map(class_num)\n",
    "    gdf['ref_2'] = gdf['BST1_BA_2'].map(class_num)\n",
    "    gdf.fillna(8, inplace=True)\n",
    "    # calculate acc\n",
    "    total = gdf.shape[0]\n",
    "    gdf['top_1'] = (gdf['ref_1'] == gdf['class'])\n",
    "    gdf['top_2'] = (gdf['ref_1'] == gdf['class']) | (gdf['ref_2'] == gdf['class'])\n",
    "    top1_acc[model] = sum(gdf['top_1']) / total\n",
    "    top2_acc[model] = sum(gdf['top_2']) / total\n",
    "    # export result\n",
    "    out_path = os.path.join(PATH, f'{model}_{uid}_map.csv')\n",
    "    csv.export(gdf, out_path, False)\n",
    "print('Top1 Acc', top1_acc)\n",
    "print('Top2 Acc', top2_acc)"
   ]
  },
  {
   "attachments": {},
   "cell_type": "markdown",
   "metadata": {},
   "source": [
    "Top1 and Top2 Accuracy for AOI"
   ]
  },
  {
   "cell_type": "code",
   "execution_count": 34,
   "metadata": {},
   "outputs": [
    {
     "name": "stdout",
     "output_type": "stream",
     "text": [
      "{'Hardtwald': {'transformer': 0.8571428571428571, 'lstm': 0.7551020408163265, 'bi-lstm': 0.7551020408163265}, 'Schwarzwald': {'transformer': 0.48148148148148145, 'lstm': 0.5185185185185185, 'bi-lstm': 0.6296296296296297}, 'schoenbuch': {'transformer': 0.6923076923076923, 'lstm': 0.4945054945054945, 'bi-lstm': 0.5384615384615384}}\n",
      "{'Hardtwald': {'transformer': 0.9591836734693877, 'lstm': 0.9183673469387755, 'bi-lstm': 0.9591836734693877}, 'Schwarzwald': {'transformer': 0.7037037037037037, 'lstm': 0.6481481481481481, 'bi-lstm': 0.7222222222222222}, 'schoenbuch': {'transformer': 0.9120879120879121, 'lstm': 0.7142857142857143, 'bi-lstm': 0.8241758241758241}}\n"
     ]
    }
   ],
   "source": [
    "top1_loc_acc = {'Hardtwald':{}, 'Schwarzwald':{}, 'schoenbuch':{}}\n",
    "top2_loc_acc = {'Hardtwald':{}, 'Schwarzwald':{}, 'schoenbuch':{}}\n",
    "for model in models:\n",
    "    pred_path = os.path.join(PATH, f'{model}_{uid}_map.csv')\n",
    "    pred = csv.load(pred_path, 'id')\n",
    "    group = pred.groupby('Location')\n",
    "    for key, df in group:\n",
    "        loc = key.split('_')[0]\n",
    "        total = df.shape[0]\n",
    "        top1_loc_acc[loc][model] = sum(df['top_1']) / total\n",
    "        top2_loc_acc[loc][model] = sum(df['top_2']) / total\n",
    "print(top1_loc_acc)\n",
    "print(top2_loc_acc)"
   ]
  }
 ],
 "metadata": {
  "interpreter": {
   "hash": "57200abac2ff18432c53e10587ceb364acdd46eebe90c6833204d1f95e2c9eff"
  },
  "kernelspec": {
   "display_name": "Python 3.8.13 ('yolov5')",
   "language": "python",
   "name": "python3"
  },
  "language_info": {
   "codemirror_mode": {
    "name": "ipython",
    "version": 3
   },
   "file_extension": ".py",
   "mimetype": "text/x-python",
   "name": "python",
   "nbconvert_exporter": "python",
   "pygments_lexer": "ipython3",
   "version": "3.8.13"
  },
  "orig_nbformat": 4
 },
 "nbformat": 4,
 "nbformat_minor": 2
}
