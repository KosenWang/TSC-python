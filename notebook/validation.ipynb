{
 "cells": [
  {
   "cell_type": "code",
   "execution_count": null,
   "metadata": {},
   "outputs": [],
   "source": [
    "import numpy as np\n",
    "import os\n",
    "import sys\n",
    "import pandas as pd\n",
    "import geopandas as gpd\n",
    "import matplotlib.pyplot as plt\n",
    "sys.path.append('../')\n",
    "import utils.csv as csv\n",
    "import utils.shp as shp"
   ]
  },
  {
   "cell_type": "code",
   "execution_count": null,
   "metadata": {},
   "outputs": [],
   "source": [
    "PATH='D:\\\\Deutschland\\\\FUB\\\\master_thesis\\\\data'\n",
    "DATA_DIR = os.path.join(PATH, 'gee', 'output', 'validation_grid_daily_padding')\n",
    "LABEL_CSV = 'label_val_grid.csv'\n",
    "METHOD = 'classification'\n",
    "MODEL = 'lstm'\n",
    "UID = '8pure9'\n",
    "MODEL_NAME = MODEL + '_' + UID\n",
    "LABEL_PATH = os.path.join(PATH, 'ref', 'validation', LABEL_CSV)\n",
    "MODEL_PATH = f'../outputs/models/{METHOD}/01/{MODEL_NAME}.pth'"
   ]
  },
  {
   "cell_type": "code",
   "execution_count": null,
   "metadata": {},
   "outputs": [],
   "source": [
    "x_data, y_data = csv.to_numpy(DATA_DIR, LABEL_PATH)"
   ]
  },
  {
   "cell_type": "code",
   "execution_count": null,
   "metadata": {},
   "outputs": [],
   "source": [
    "predicted = np.random.randint(0, 9, 17772)\n",
    "y_data[:, 1] = predicted\n",
    "y_list = y_data.tolist()\n",
    "cols = ['id', 'class']\n",
    "pred = csv.list_to_dataframe(y_list, cols)\n"
   ]
  },
  {
   "cell_type": "code",
   "execution_count": null,
   "metadata": {},
   "outputs": [],
   "source": [
    "in_path = 'D:\\\\Deutschland\\\\FUB\\\\master_thesis\\\\data\\\\Reference_data\\\\validation\\\\wgs_validation_grid_20m.shp'\n",
    "gdf = shp.load_shp_file(in_path)"
   ]
  },
  {
   "cell_type": "code",
   "execution_count": null,
   "metadata": {},
   "outputs": [],
   "source": [
    "gdf.rename(columns={'id_1':'id'}, inplace=True)\n",
    "gdf"
   ]
  },
  {
   "cell_type": "code",
   "execution_count": null,
   "metadata": {},
   "outputs": [],
   "source": [
    "polygons = pd.merge(gdf, pred, on='id', how='inner')\n",
    "polygons"
   ]
  },
  {
   "cell_type": "code",
   "execution_count": null,
   "metadata": {},
   "outputs": [],
   "source": [
    "class_name = {0:'Spruce', 1:'Sliver Fir', 2:'Douglas Fir', 3:'Pine', \n",
    "            4:'Oak', 5:'Red Oak', 6:'Beech', 7:'Sycamore', 8:'Others'}\n",
    "polygons['name'] = polygons['class'].map(class_name)\n",
    "polygons"
   ]
  },
  {
   "cell_type": "code",
   "execution_count": null,
   "metadata": {},
   "outputs": [],
   "source": [
    "# top area: bottom > 2850000\n",
    "sub_area1 = polygons[polygons['top'] > 2850000]\n",
    "# middle area: 2800000 < bottom < 2850000\n",
    "sub_area2 = polygons[(polygons['top'] < 2850000) & (polygons['top'] > 2800000)]\n",
    "# bottoem area: bottom < 2800000\n",
    "sub_area3 = polygons[polygons['top'] < 2800000]"
   ]
  },
  {
   "cell_type": "code",
   "execution_count": null,
   "metadata": {},
   "outputs": [],
   "source": [
    "# Create a figure and axis\n",
    "fig, ax = plt.subplots(figsize=(20, 6))\n",
    "\n",
    "# Plot all the polygons\n",
    "sub_area1.plot(ax=ax, column='name', legend=True, categorical = True, legend_kwds={'loc': 'center left', 'bbox_to_anchor':(1,0.5)})\n",
    "\n",
    "# Set the title and axis labels\n",
    "ax.set_title(\"Tree Species Map\")\n",
    "ax.set_xlabel(\"Longitude\")\n",
    "ax.set_ylabel(\"Latitude\")\n",
    "# Show the plot\n",
    "plt.show()"
   ]
  }
 ],
 "metadata": {
  "kernelspec": {
   "display_name": "geo",
   "language": "python",
   "name": "python3"
  },
  "language_info": {
   "codemirror_mode": {
    "name": "ipython",
    "version": 3
   },
   "file_extension": ".py",
   "mimetype": "text/x-python",
   "name": "python",
   "nbconvert_exporter": "python",
   "pygments_lexer": "ipython3",
   "version": "3.8.13"
  },
  "orig_nbformat": 4
 },
 "nbformat": 4,
 "nbformat_minor": 2
}
