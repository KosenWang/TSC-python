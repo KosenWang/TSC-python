{
 "cells": [
  {
   "cell_type": "code",
   "execution_count": 1,
   "metadata": {},
   "outputs": [],
   "source": [
    "import os\n",
    "import sys\n",
    "sys.path.append('../')\n",
    "import utils.csv as csv\n",
    "import utils.plot as plot"
   ]
  },
  {
   "cell_type": "code",
   "execution_count": 7,
   "metadata": {},
   "outputs": [],
   "source": [
    "PATH='D:\\\\Deutschland\\\\FUB\\\\master_thesis\\\\data'\n",
    "DATA_DIR = os.path.join(PATH, 'gee', 'output', 'validation_grid_daily_padding')\n",
    "LABEL_CSV = 'label_val_grid.csv'\n",
    "METHOD = 'classification'\n",
    "MODEL = 'transformer'\n",
    "UID = '8pure9'\n",
    "MODEL_NAME = MODEL + '_' + UID\n",
    "LABEL_PATH = os.path.join(PATH, 'ref', 'validation', LABEL_CSV)\n",
    "MODEL_PATH = f'../outputs/models/{METHOD}/01/{MODEL_NAME}.pth'"
   ]
  },
  {
   "cell_type": "code",
   "execution_count": 3,
   "metadata": {},
   "outputs": [],
   "source": [
    " # *************************change class here*************************\n",
    "classes = ['Spruce', 'Sliver Fir','Douglas Fir','Pine','Oak','Red Oak','Beech','Sycamore','Others']\n",
    "# *******************************************************************\n",
    "ref = csv.load(f'../outputs/csv/{METHOD}/01/{MODEL_NAME}_ref.csv', 'id')\n",
    "pred = csv.load(f'../outputs/csv/{METHOD}/01/{MODEL_NAME}_pred.csv', 'id')"
   ]
  },
  {
   "cell_type": "code",
   "execution_count": 8,
   "metadata": {},
   "outputs": [
    {
     "data": {
      "text/plain": [
       "<Figure size 1000x1000 with 0 Axes>"
      ]
     },
     "metadata": {},
     "output_type": "display_data"
    }
   ],
   "source": [
    "plot.draw_confusion_matrix(ref, pred, classes, MODEL_NAME)"
   ]
  }
 ],
 "metadata": {
  "kernelspec": {
   "display_name": "geo",
   "language": "python",
   "name": "python3"
  },
  "language_info": {
   "codemirror_mode": {
    "name": "ipython",
    "version": 3
   },
   "file_extension": ".py",
   "mimetype": "text/x-python",
   "name": "python",
   "nbconvert_exporter": "python",
   "pygments_lexer": "ipython3",
   "version": "3.8.13"
  },
  "orig_nbformat": 4
 },
 "nbformat": 4,
 "nbformat_minor": 2
}
