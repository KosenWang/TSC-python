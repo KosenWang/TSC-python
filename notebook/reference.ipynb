{
 "cells": [
  {
   "cell_type": "code",
   "execution_count": 7,
   "metadata": {},
   "outputs": [],
   "source": [
    "import pandas as pd\n",
    "import os\n",
    "import sys\n",
    "sys.path.append('../')\n",
    "import utils.csv as csv\n",
    "import utils.plot as plot"
   ]
  },
  {
   "cell_type": "code",
   "execution_count": 8,
   "metadata": {},
   "outputs": [],
   "source": [
    "OUTPUT_DIR = 'D:\\\\Deutschland\\\\FUB\\\\master_thesis\\\\data\\\\ref\\\\all'\n",
    "\n",
    "REF_CSV = 'reference_8main.csv'\n",
    "LABEL_CSV = 'label_7multi5.csv'\n",
    "MERGE_CSV = 'merged_8main.csv'\n",
    "CLASS_CSV = '8pure_classes.csv'\n",
    "\n",
    "ref_path = os.path.join(OUTPUT_DIR, REF_CSV)\n",
    "merge_path = os.path.join(OUTPUT_DIR, MERGE_CSV)\n",
    "label_path = os.path.join(OUTPUT_DIR, LABEL_CSV)\n",
    "class_path = os.path.join(OUTPUT_DIR, CLASS_CSV)\n",
    "\n",
    "categories = ['Spruce', 'Sliver Fir', 'Douglas Fir', 'Pine', 'Oak', 'Red Oak', 'Beech', 'Sycamore', 'Others']"
   ]
  },
  {
   "attachments": {},
   "cell_type": "markdown",
   "metadata": {},
   "source": [
    "Pre-Process"
   ]
  },
  {
   "cell_type": "code",
   "execution_count": null,
   "metadata": {},
   "outputs": [],
   "source": [
    "def statistics() -> pd.DataFrame:\n",
    "    \"\"\"Count percentage of selected species over each polygon\"\"\"\n",
    "    ref = csv.load(file_path=ref_path, index_col='id')\n",
    "    # selected species\n",
    "    cols = ['Spruce','Sliver Fir','Douglas Fir','Pine','Oak','Beech','Sycamore','Others','id']\n",
    "    labels = []\n",
    "    for index, row in ref.iterrows():\n",
    "        label = pd.DataFrame(columns=cols, index=[0])\n",
    "        label.fillna(value=0, inplace=True)\n",
    "        label['id'] = index\n",
    "        if 831 in [row[0], row[1], row[2]]:\n",
    "            continue\n",
    "        for i in range(8):\n",
    "            if row[i] == 110:\n",
    "                label['Spruce'] += row[i + 8]\n",
    "            elif row[i] == 210:\n",
    "                label['Sliver Fir'] += row[i + 8]\n",
    "            elif row[i] == 310:\n",
    "                label['Douglas Fir'] += row[i + 8]\n",
    "            elif row[i] == 410:\n",
    "                label['Pine'] += row[i + 8]\n",
    "            elif row[i] == 600:\n",
    "                label['Oak'] += row[i + 8]\n",
    "            elif row[i] == 710:\n",
    "                label['Beech'] += row[i + 8]\n",
    "            elif row[i] == 821:\n",
    "                label['Sycamore'] += row[i + 8]\n",
    "            else:\n",
    "                label['Others'] += row[i + 8]\n",
    "        labels.append(label)\n",
    "    output = pd.concat(labels, ignore_index=True)\n",
    "    output.set_index(['id'], inplace=True)\n",
    "    return output"
   ]
  },
  {
   "cell_type": "code",
   "execution_count": null,
   "metadata": {},
   "outputs": [],
   "source": [
    "def export_classes() -> pd.DataFrame:\n",
    "    \"\"\"Export percentage of selected species as csv file\"\"\"\n",
    "    # load labels\n",
    "    classes = statistics()\n",
    "    merged = csv.load(merge_path,'id')\n",
    "    # select both labels and data are available polygons\n",
    "    output = pd.merge(classes, merged, on='id', how='inner')\n",
    "    # delete sum of percentage is not 100%\n",
    "    # **************change number of column here**************\n",
    "    output['sum'] = output.iloc[:,0:8].sum(axis=1)\n",
    "    # ********************************************************\n",
    "    output = output[output['sum'] == 100]\n",
    "    # delete useless columns\n",
    "    output.drop(columns=['sum'], axis=1, inplace=True)\n",
    "    output = output / 100\n",
    "    csv.export(output, class_path, True)\n",
    "    return output\n",
    "\n",
    "export_classes()"
   ]
  },
  {
   "attachments": {},
   "cell_type": "markdown",
   "metadata": {},
   "source": [
    "Multi-Label"
   ]
  },
  {
   "cell_type": "code",
   "execution_count": null,
   "metadata": {},
   "outputs": [],
   "source": [
    "def multi_label() -> pd.DataFrame:\n",
    "    \"\"\"Build multi-hot label for 8 classes, 1 means existing 0 means not\"\"\"\n",
    "    labels = csv.load(class_path, 'id')\n",
    "    labels.drop('Others', axis=1, inplace=True)\n",
    "    labels = labels.applymap(lambda x: (x > 0.05 and 1 or 0))\n",
    "    csv.export(labels, label_path, True)\n",
    "    return labels\n",
    "multi_label()"
   ]
  },
  {
   "attachments": {},
   "cell_type": "markdown",
   "metadata": {},
   "source": [
    "Multi-Class"
   ]
  },
  {
   "cell_type": "code",
   "execution_count": 5,
   "metadata": {},
   "outputs": [
    {
     "name": "stdout",
     "output_type": "stream",
     "text": [
      "plot successfully\n"
     ]
    },
    {
     "data": {
      "text/plain": [
       "[24106, 751, 3413, 1345, 2019, 1199, 8010, 964, 4280]"
      ]
     },
     "execution_count": 5,
     "metadata": {},
     "output_type": "execute_result"
    },
    {
     "data": {
      "text/plain": [
       "<Figure size 700x700 with 0 Axes>"
      ]
     },
     "metadata": {},
     "output_type": "display_data"
    }
   ],
   "source": [
    "def plot_sample_count() -> list:\n",
    "    \"\"\"Count sample number for each class based on centain classification strategy\"\"\"\n",
    "    classes = csv.load(class_path, 'id')\n",
    "    counts = [0 for _ in range(9)]\n",
    "    # count\n",
    "    for index, row in classes.iterrows():\n",
    "        # spruce\n",
    "        if row[0] >= 0.9:\n",
    "            counts[0] += 1\n",
    "        # sliver fir\n",
    "        elif row[1] >= 0.9:\n",
    "            counts[1] += 1\n",
    "        # douglas fir\n",
    "        elif row[2] >= 0.9:\n",
    "            counts[2] += 1\n",
    "        # pine\n",
    "        elif row[3] >= 0.9:\n",
    "            counts[3] += 1\n",
    "        # oak\n",
    "        elif row[4] >= 0.9:\n",
    "            counts[4] += 1\n",
    "        # red oak\n",
    "        elif row[5] >= 0.9:\n",
    "            counts[5] += 1\n",
    "        # beech\n",
    "        elif row[6] >= 0.9:\n",
    "            counts[6] += 1\n",
    "        # sycamore\n",
    "        elif row[7] >= 0.9:\n",
    "            counts[7] += 1\n",
    "        # others\n",
    "        else:\n",
    "            counts[8] += 1\n",
    "    # plot\n",
    "    plot.draw_bar_chart(categories, counts, 'Unbalanced')\n",
    "    print('plot successfully')\n",
    "    return counts\n",
    "\n",
    "plot_sample_count()"
   ]
  },
  {
   "cell_type": "code",
   "execution_count": null,
   "metadata": {},
   "outputs": [],
   "source": [
    "def classify() -> pd.DataFrame:\n",
    "    \"\"\"\n",
    "    spruce: 0\n",
    "    sliver fir: 1\n",
    "    douglas fir: 2\n",
    "    pine: 3\n",
    "    oak: 4\n",
    "    red oak: 5\n",
    "    beech: 6\n",
    "    sycamore: 7\n",
    "    others: 8\n",
    "    \"\"\"\n",
    "    labels = csv.load(class_path, 'id')\n",
    "    labels['class'] = 0\n",
    "    for index, row in labels.iterrows():\n",
    "        if row[0] >= 0.9:\n",
    "            labels.loc[index, 'class'] = 0\n",
    "        elif row[1] >= 0.9:\n",
    "            labels.loc[index, 'class'] = 1\n",
    "        elif row[2] >= 0.9:\n",
    "            labels.loc[index, 'class'] = 2\n",
    "        elif row[3] >= 0.9:\n",
    "            labels.loc[index, 'class'] = 3\n",
    "        elif row[4] >= 0.9:\n",
    "            labels.loc[index, 'class'] = 4\n",
    "        elif row[5] >= 0.9:\n",
    "            labels.loc[index, 'class'] = 5\n",
    "        elif row[6] >= 0.9:\n",
    "            labels.loc[index, 'class'] = 6\n",
    "        elif row[7] >= 0.9:\n",
    "            labels.loc[index, 'class'] = 7\n",
    "        else:\n",
    "            labels.loc[index, 'class'] = 8\n",
    "    # manually split label\n",
    "    # **************change number of column here**************\n",
    "    labels.drop(labels.columns[[i for i in range(9)]],  axis=1, inplace=True)\n",
    "    # labels = labels[labels['class'] != 7]\n",
    "    # ********************************************************\n",
    "    labels.sort_values(by='class', ascending=True, inplace=True)\n",
    "    group = labels.groupby('class')\n",
    "    y_train = []\n",
    "    y_val = []\n",
    "    y_test = []\n",
    "    for key, df in group:\n",
    "        sz = len(df)\n",
    "        if sz > 24000:\n",
    "            sz /= 5\n",
    "        elif sz > 8000:\n",
    "            sz /= 2\n",
    "        elif sz > 4000:\n",
    "            sz /= 4\n",
    "        train_size = round(sz * 0.8)\n",
    "        val_size = round(sz * 0.1)\n",
    "        test_size = round(sz * 0.1)\n",
    "        head = df.head(train_size)\n",
    "        tail = df.tail(val_size + test_size)\n",
    "        y_train.append(head)\n",
    "        y_val.append(tail.head(val_size))\n",
    "        y_test.append(tail.tail(test_size))\n",
    "    output = pd.concat(y_train + y_val + y_test)\n",
    "    csv.export(output, label_path, True)\n",
    "    return output\n",
    "\n",
    "classify()"
   ]
  },
  {
   "cell_type": "code",
   "execution_count": 9,
   "metadata": {},
   "outputs": [
    {
     "data": {
      "text/plain": [
       "<Figure size 700x700 with 0 Axes>"
      ]
     },
     "metadata": {},
     "output_type": "display_data"
    }
   ],
   "source": [
    "counts = [24106//5, 751, 3413, 1345, 2019, 1199, 8010//2, 964, 4280//4]\n",
    "plot.draw_bar_chart(categories, counts, 'Resampled')"
   ]
  }
 ],
 "metadata": {
  "interpreter": {
   "hash": "97b00fa1772857f8bb41faa71da0ffb20c4d7710343af17d999bad6a7d62b298"
  },
  "kernelspec": {
   "display_name": "Python 3.8.13 ('geo')",
   "language": "python",
   "name": "python3"
  },
  "language_info": {
   "codemirror_mode": {
    "name": "ipython",
    "version": 3
   },
   "file_extension": ".py",
   "mimetype": "text/x-python",
   "name": "python",
   "nbconvert_exporter": "python",
   "pygments_lexer": "ipython3",
   "version": "3.8.13"
  },
  "orig_nbformat": 4
 },
 "nbformat": 4,
 "nbformat_minor": 2
}
